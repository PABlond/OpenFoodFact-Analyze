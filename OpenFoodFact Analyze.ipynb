{
 "cells": [
  {
   "cell_type": "markdown",
   "metadata": {},
   "source": [
    "# OpenFoodFact Analyze"
   ]
  },
  {
   "cell_type": "code",
   "execution_count": 1,
   "metadata": {},
   "outputs": [],
   "source": [
    "import numpy as np\n",
    "import pandas as pd\n",
    "pd.set_option('display.max_columns', 500)\n",
    "import matplotlib.pyplot as plt\n"
   ]
  },
  {
   "cell_type": "code",
   "execution_count": 2,
   "metadata": {},
   "outputs": [
    {
     "name": "stderr",
     "output_type": "stream",
     "text": [
      "/home/login/startup/server/env/lib/python3.6/site-packages/IPython/core/interactiveshell.py:3049: DtypeWarning: Columns (0,24,25,26,28,44,49) have mixed types. Specify dtype option on import or set low_memory=False.\n",
      "  interactivity=interactivity, compiler=compiler, result=result)\n"
     ]
    }
   ],
   "source": [
    "dataset_path = './data/'\n",
    "filename = dataset_path + 'fr.openfoodfacts.org.products.csv'\n",
    "data = pd.read_csv(filename, sep='\\t')"
   ]
  },
  {
   "cell_type": "code",
   "execution_count": 4,
   "metadata": {},
   "outputs": [
    {
     "data": {
      "text/html": [
       "<div>\n",
       "<style scoped>\n",
       "    .dataframe tbody tr th:only-of-type {\n",
       "        vertical-align: middle;\n",
       "    }\n",
       "\n",
       "    .dataframe tbody tr th {\n",
       "        vertical-align: top;\n",
       "    }\n",
       "\n",
       "    .dataframe thead th {\n",
       "        text-align: right;\n",
       "    }\n",
       "</style>\n",
       "<table border=\"1\" class=\"dataframe\">\n",
       "  <thead>\n",
       "    <tr style=\"text-align: right;\">\n",
       "      <th></th>\n",
       "      <th>code</th>\n",
       "      <th>product_name</th>\n",
       "      <th>ingredients_text</th>\n",
       "      <th>energy_100g</th>\n",
       "      <th>sugars_100g</th>\n",
       "      <th>proteins_100g</th>\n",
       "      <th>salt_100g</th>\n",
       "    </tr>\n",
       "  </thead>\n",
       "  <tbody>\n",
       "    <tr>\n",
       "      <th>16</th>\n",
       "      <td>0000000001199</td>\n",
       "      <td>Solène céréales poulet</td>\n",
       "      <td>antioxydant : érythorbate de sodium, colorant ...</td>\n",
       "      <td>916.0</td>\n",
       "      <td>1.7</td>\n",
       "      <td>9.7</td>\n",
       "      <td>0.464</td>\n",
       "    </tr>\n",
       "    <tr>\n",
       "      <th>23</th>\n",
       "      <td>0000000001663</td>\n",
       "      <td>Crème dessert chocolat</td>\n",
       "      <td>Lait entier, sucre, amidon de maïs, cacao, Aga...</td>\n",
       "      <td>0.0</td>\n",
       "      <td>0.0</td>\n",
       "      <td>0.0</td>\n",
       "      <td>0.000</td>\n",
       "    </tr>\n",
       "    <tr>\n",
       "      <th>32</th>\n",
       "      <td>0000000002264</td>\n",
       "      <td>Baguette Poitevin</td>\n",
       "      <td>baguette Poite vin Pain baguette 50,6%: farine...</td>\n",
       "      <td>866.0</td>\n",
       "      <td>0.6</td>\n",
       "      <td>8.9</td>\n",
       "      <td>0.400</td>\n",
       "    </tr>\n",
       "    <tr>\n",
       "      <th>41</th>\n",
       "      <td>0000000003827</td>\n",
       "      <td>Suedois saumon</td>\n",
       "      <td>Paln suédois 42,6%: farine de BLÉ, eau, farine...</td>\n",
       "      <td>720.0</td>\n",
       "      <td>4.6</td>\n",
       "      <td>8.4</td>\n",
       "      <td>3.580</td>\n",
       "    </tr>\n",
       "    <tr>\n",
       "      <th>44</th>\n",
       "      <td>0000000004510</td>\n",
       "      <td>Salade shaker taboulé</td>\n",
       "      <td>Taboulé 76,2%, légumes 12%, huile de colza, se...</td>\n",
       "      <td>477.0</td>\n",
       "      <td>1.4</td>\n",
       "      <td>3.9</td>\n",
       "      <td>0.310</td>\n",
       "    </tr>\n",
       "  </tbody>\n",
       "</table>\n",
       "</div>"
      ],
      "text/plain": [
       "             code            product_name  \\\n",
       "16  0000000001199  Solène céréales poulet   \n",
       "23  0000000001663  Crème dessert chocolat   \n",
       "32  0000000002264       Baguette Poitevin   \n",
       "41  0000000003827          Suedois saumon   \n",
       "44  0000000004510   Salade shaker taboulé   \n",
       "\n",
       "                                     ingredients_text  energy_100g  \\\n",
       "16  antioxydant : érythorbate de sodium, colorant ...        916.0   \n",
       "23  Lait entier, sucre, amidon de maïs, cacao, Aga...          0.0   \n",
       "32  baguette Poite vin Pain baguette 50,6%: farine...        866.0   \n",
       "41  Paln suédois 42,6%: farine de BLÉ, eau, farine...        720.0   \n",
       "44  Taboulé 76,2%, légumes 12%, huile de colza, se...        477.0   \n",
       "\n",
       "    sugars_100g  proteins_100g  salt_100g  \n",
       "16          1.7            9.7      0.464  \n",
       "23          0.0            0.0      0.000  \n",
       "32          0.6            8.9      0.400  \n",
       "41          4.6            8.4      3.580  \n",
       "44          1.4            3.9      0.310  "
      ]
     },
     "execution_count": 4,
     "metadata": {},
     "output_type": "execute_result"
    }
   ],
   "source": [
    "df_columns = ['code', 'product_name', 'ingredients_text','energy_100g', 'sugars_100g', 'proteins_100g', 'salt_100g']\n",
    "df = data[df_columns].dropna(axis='rows')\n",
    "df.head()"
   ]
  },
  {
   "cell_type": "code",
   "execution_count": 5,
   "metadata": {},
   "outputs": [],
   "source": [
    "ings_all = []\n",
    "for ings in df['ingredients_text']:\n",
    "    ings_arr = ings.split(', ')\n",
    "    for ing in ings_arr:\n",
    "        salt = ['sel', 'salt', 'Salt', 'Sel', 'sel)', 'salt)', 'sea salt']\n",
    "        sugar = ['sucre', 'sugar', 'Sugar']\n",
    "        water = ['eau', 'Water', 'water', 'Eau']\n",
    "        if ing in salt:\n",
    "            ings_all.append('Sel')\n",
    "        elif ing in sugar:\n",
    "            ings_all.append('Sucre')\n",
    "        elif ing in water:\n",
    "            ings_all.append('Eau')        \n",
    "        else:\n",
    "            ings_all.append(ing)"
   ]
  },
  {
   "cell_type": "code",
   "execution_count": 6,
   "metadata": {},
   "outputs": [],
   "source": [
    "ings = pd.DataFrame(ings_all)\n",
    "ings.columns = ['Ingredient']\n",
    "ings_count = pd.DataFrame(ings.groupby('Ingredient').size()).sort_values(by=0, ascending=False)\n",
    "ings_count.columns = ['Count (%)']\n",
    "ings_count['Count (%)'] = round((ings_count['Count (%)'] / len(df.values))*100, 1) "
   ]
  },
  {
   "cell_type": "code",
   "execution_count": 7,
   "metadata": {},
   "outputs": [
    {
     "data": {
      "text/plain": [
       "<matplotlib.axes._subplots.AxesSubplot at 0x7fba2d908b38>"
      ]
     },
     "execution_count": 7,
     "metadata": {},
     "output_type": "execute_result"
    },
    {
     "data": {
      "image/png": "[encoded data removed]",
      "text/plain": [
       "<Figure size 1440x720 with 1 Axes>"
      ]
     },
     "metadata": {
      "needs_background": "light"
     },
     "output_type": "display_data"
    }
   ],
   "source": [
    "ings_count.reset_index().head(3).plot(kind=\"bar\", x=\"Ingredient\", y='Count (%)', figsize=(20, 10), yticks =np.arange(0, 100, step=5))\n"
   ]
  }
 ],
 "metadata": {
  "kernelspec": {
   "display_name": "Python 3",
   "language": "python",
   "name": "python3"
  }
 },
 "nbformat": 4,
 "nbformat_minor": 2
}
